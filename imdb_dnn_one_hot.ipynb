{
  "nbformat": 4,
  "nbformat_minor": 0,
  "metadata": {
    "colab": {
      "name": "imdb-dnn-one-hot.ipynb",
      "provenance": [],
      "collapsed_sections": [],
      "authorship_tag": "ABX9TyPccDqO00gA5QQvDNjxSFHH",
      "include_colab_link": true
    },
    "kernelspec": {
      "name": "python3",
      "display_name": "Python 3"
    }
  },
  "cells": [
    {
      "cell_type": "markdown",
      "metadata": {
        "id": "view-in-github",
        "colab_type": "text"
      },
      "source": [
        "<a href=\"https://colab.research.google.com/github/ayush2991/imdb-reviews/blob/main/imdb_dnn_one_hot.ipynb\" target=\"_parent\"><img src=\"https://colab.research.google.com/assets/colab-badge.svg\" alt=\"Open In Colab\"/></a>"
      ]
    },
    {
      "cell_type": "code",
      "metadata": {
        "id": "uP9rX1Ts7yRG"
      },
      "source": [
        "import tensorflow as tf\n",
        "from tensorflow.keras.datasets import imdb\n",
        "import numpy as np\n",
        "from keras import layers\n",
        "from keras import models\n",
        "from tensorflow.keras import optimizers\n",
        "from tensorflow.keras import losses\n",
        "from tensorflow.keras import metrics\n",
        "import matplotlib.pyplot as plt"
      ],
      "execution_count": 74,
      "outputs": []
    },
    {
      "cell_type": "code",
      "metadata": {
        "id": "bQJ3LJ289vpd"
      },
      "source": [
        "# imdb.load_data?\n",
        "# Using this help command, we learn that:\n",
        "# 1. The function call returns (x_train, y_train), (x_test, y_test)\n",
        "# 2. words are indexed by frequency, so 1 = most common token\n",
        "# 3. 0 is the placeholder for unknown tokens\n",
        "# 4. index_from=3 so indices 0, 1, 2 are reserved for special tokens."
      ],
      "execution_count": 75,
      "outputs": []
    },
    {
      "cell_type": "code",
      "metadata": {
        "id": "yA_AVEaJkOGG"
      },
      "source": [
        "VOCAB_SIZE = 10000"
      ],
      "execution_count": 76,
      "outputs": []
    },
    {
      "cell_type": "code",
      "metadata": {
        "colab": {
          "base_uri": "https://localhost:8080/"
        },
        "id": "QPo5Or3dWK1V",
        "outputId": "3608268e-db29-47fe-de0a-87c575bf0e1c"
      },
      "source": [
        "word_index = imdb.get_word_index()\n",
        "print(\"# unqiue tokens = \", len(word_index.items()))"
      ],
      "execution_count": 77,
      "outputs": [
        {
          "output_type": "stream",
          "text": [
            "# unqiue tokens =  88584\n"
          ],
          "name": "stdout"
        }
      ]
    },
    {
      "cell_type": "code",
      "metadata": {
        "colab": {
          "base_uri": "https://localhost:8080/"
        },
        "id": "TOb3imrj9xdu",
        "outputId": "05544612-0859-4381-e227-9a951b4131ee"
      },
      "source": [
        "(x_train_raw, y_train_raw), (x_test_raw, y_test_raw) = imdb.load_data(num_words=VOCAB_SIZE)\n",
        "# num_words = 10,000 is perhaps an arbitray choice but seems like \n",
        "# a good starting point because it is unlikely that people need more \n",
        "# than 10,000 real english words to express their views about a movie.\n",
        "# This choice is also informed by my prior work on large NLP systems\n",
        "# which required no more than 50,000 tokens for complete expression.\n",
        "# We can always tune this hyperparameter, if need be."
      ],
      "execution_count": 78,
      "outputs": [
        {
          "output_type": "stream",
          "text": [
            "<string>:6: VisibleDeprecationWarning: Creating an ndarray from ragged nested sequences (which is a list-or-tuple of lists-or-tuples-or ndarrays with different lengths or shapes) is deprecated. If you meant to do this, you must specify 'dtype=object' when creating the ndarray\n",
            "/usr/local/lib/python3.6/dist-packages/tensorflow/python/keras/datasets/imdb.py:159: VisibleDeprecationWarning: Creating an ndarray from ragged nested sequences (which is a list-or-tuple of lists-or-tuples-or ndarrays with different lengths or shapes) is deprecated. If you meant to do this, you must specify 'dtype=object' when creating the ndarray\n",
            "  x_train, y_train = np.array(xs[:idx]), np.array(labels[:idx])\n",
            "/usr/local/lib/python3.6/dist-packages/tensorflow/python/keras/datasets/imdb.py:160: VisibleDeprecationWarning: Creating an ndarray from ragged nested sequences (which is a list-or-tuple of lists-or-tuples-or ndarrays with different lengths or shapes) is deprecated. If you meant to do this, you must specify 'dtype=object' when creating the ndarray\n",
            "  x_test, y_test = np.array(xs[idx:]), np.array(labels[idx:])\n"
          ],
          "name": "stderr"
        }
      ]
    },
    {
      "cell_type": "code",
      "metadata": {
        "colab": {
          "base_uri": "https://localhost:8080/"
        },
        "id": "uNqe8FsO_JiE",
        "outputId": "59496f21-98ff-4dc1-e5c4-d947e22131e0"
      },
      "source": [
        "# Let's see what the data looks like\n",
        "print(x_train_raw[0])"
      ],
      "execution_count": 79,
      "outputs": [
        {
          "output_type": "stream",
          "text": [
            "[1, 14, 22, 16, 43, 530, 973, 1622, 1385, 65, 458, 4468, 66, 3941, 4, 173, 36, 256, 5, 25, 100, 43, 838, 112, 50, 670, 2, 9, 35, 480, 284, 5, 150, 4, 172, 112, 167, 2, 336, 385, 39, 4, 172, 4536, 1111, 17, 546, 38, 13, 447, 4, 192, 50, 16, 6, 147, 2025, 19, 14, 22, 4, 1920, 4613, 469, 4, 22, 71, 87, 12, 16, 43, 530, 38, 76, 15, 13, 1247, 4, 22, 17, 515, 17, 12, 16, 626, 18, 2, 5, 62, 386, 12, 8, 316, 8, 106, 5, 4, 2223, 5244, 16, 480, 66, 3785, 33, 4, 130, 12, 16, 38, 619, 5, 25, 124, 51, 36, 135, 48, 25, 1415, 33, 6, 22, 12, 215, 28, 77, 52, 5, 14, 407, 16, 82, 2, 8, 4, 107, 117, 5952, 15, 256, 4, 2, 7, 3766, 5, 723, 36, 71, 43, 530, 476, 26, 400, 317, 46, 7, 4, 2, 1029, 13, 104, 88, 4, 381, 15, 297, 98, 32, 2071, 56, 26, 141, 6, 194, 7486, 18, 4, 226, 22, 21, 134, 476, 26, 480, 5, 144, 30, 5535, 18, 51, 36, 28, 224, 92, 25, 104, 4, 226, 65, 16, 38, 1334, 88, 12, 16, 283, 5, 16, 4472, 113, 103, 32, 15, 16, 5345, 19, 178, 32]\n"
          ],
          "name": "stdout"
        }
      ]
    },
    {
      "cell_type": "code",
      "metadata": {
        "colab": {
          "base_uri": "https://localhost:8080/"
        },
        "collapsed": true,
        "id": "_HsCEKsaAP4k",
        "outputId": "0c4c4bc5-60b4-48da-8976-204b8af974c1"
      },
      "source": [
        "# and, in human-readable form\n",
        "reverse_index = {v:k for (k, v) in word_index.items()}\n",
        "words = [reverse_index.get(token-3 , '?') for token in x_train_raw[0]]\n",
        "review = ' '.join(words)\n",
        "print(review)"
      ],
      "execution_count": 80,
      "outputs": [
        {
          "output_type": "stream",
          "text": [
            "? this film was just brilliant casting location scenery story direction everyone's really suited the part they played and you could just imagine being there robert ? is an amazing actor and now the same being director ? father came from the same scottish island as myself so i loved the fact there was a real connection with this film the witty remarks throughout the film were great it was just brilliant so much that i bought the film as soon as it was released for ? and would recommend it to everyone to watch and the fly fishing was amazing really cried at the end it was so sad and you know what they say if you cry at a film it must have been good and this definitely was also ? to the two little boy's that played the ? of norman and paul they were just brilliant children are often left out of the ? list i think because the stars that play them all grown up are such a big profile for the whole film but these children are amazing and should be praised for what they have done don't you think the whole story was so lovely because it was true and was someone's life after all that was shared with us all\n"
          ],
          "name": "stdout"
        }
      ]
    },
    {
      "cell_type": "code",
      "metadata": {
        "id": "iIq6nEKhBWP_"
      },
      "source": [
        "# texts: A list of N reviews, where each review is a sequence of tokens of \n",
        "# variable length. For example, texts = [[3, 1, 8, ..], [9, 3, ..], ...]\n",
        "# vocab_size: The size of one-hot vector to which we'll map each review text.\n",
        "# Returns X, a matrix of shape (N, vocab_size)\n",
        "def to_one_hot(texts, vocab_size):\n",
        "  X = np.zeros((len(texts), vocab_size))\n",
        "  for i, indices in enumerate(texts):\n",
        "    X[i, indices] = 1\n",
        "  return X"
      ],
      "execution_count": 81,
      "outputs": []
    },
    {
      "cell_type": "code",
      "metadata": {
        "colab": {
          "base_uri": "https://localhost:8080/"
        },
        "id": "DdbgJoWWQdA2",
        "outputId": "ee568c98-4733-4d1e-ae7d-4339beb0fba4"
      },
      "source": [
        "# Encode all reviews into one-hot vectors which we can feed into DNNs.\n",
        "x_train = to_one_hot(x_train_raw, VOCAB_SIZE)\n",
        "x_test = to_one_hot(x_test_raw, VOCAB_SIZE)\n",
        "\n",
        "num_train_examples = len(y_train_raw)\n",
        "num_test_examples = len(y_test_raw)\n",
        "\n",
        "assert x_train.shape == (num_train_examples, VOCAB_SIZE)\n",
        "assert x_test.shape == (num_test_examples, VOCAB_SIZE)\n",
        "\n",
        "print(x_train.shape)\n",
        "print(x_test.shape)"
      ],
      "execution_count": 82,
      "outputs": [
        {
          "output_type": "stream",
          "text": [
            "(25000, 10000)\n",
            "(25000, 10000)\n"
          ],
          "name": "stdout"
        }
      ]
    },
    {
      "cell_type": "code",
      "metadata": {
        "colab": {
          "base_uri": "https://localhost:8080/"
        },
        "id": "KsWl2hn3q2vT",
        "outputId": "18708c99-924a-4a50-d9f1-1202f361950d"
      },
      "source": [
        "# Cast labels from list type to a numpy array.\n",
        "y_train = np.asarray(y_train_raw).astype('float32')\n",
        "y_test = np.asarray(y_test_raw).astype('float32')\n",
        "\n",
        "assert y_train.shape == (num_train_examples, )\n",
        "assert y_test.shape == (num_test_examples, )\n",
        "\n",
        "print(y_train.shape)\n",
        "print(y_test.shape)"
      ],
      "execution_count": 83,
      "outputs": [
        {
          "output_type": "stream",
          "text": [
            "(25000,)\n",
            "(25000,)\n"
          ],
          "name": "stdout"
        }
      ]
    },
    {
      "cell_type": "code",
      "metadata": {
        "colab": {
          "base_uri": "https://localhost:8080/"
        },
        "id": "NloHKQICsaGR",
        "outputId": "abb5787e-4aab-4a9a-9931-4c7c89876853"
      },
      "source": [
        "# A naive DNN with the following architecture. \n",
        "# X -> hidden layer 1 -> hidden layer 2 -> output layer\n",
        "model = models.Sequential([\n",
        "  layers.Dense(units=16, activation='relu', input_shape=(VOCAB_SIZE, )),\n",
        "  layers.Dense(units=16, activation='relu'),\n",
        "  layers.Dense(units=1, activation='sigmoid')\n",
        "])\n",
        "\n",
        "model.summary()"
      ],
      "execution_count": 84,
      "outputs": [
        {
          "output_type": "stream",
          "text": [
            "Model: \"sequential_2\"\n",
            "_________________________________________________________________\n",
            "Layer (type)                 Output Shape              Param #   \n",
            "=================================================================\n",
            "dense_6 (Dense)              (None, 16)                160016    \n",
            "_________________________________________________________________\n",
            "dense_7 (Dense)              (None, 16)                272       \n",
            "_________________________________________________________________\n",
            "dense_8 (Dense)              (None, 1)                 17        \n",
            "=================================================================\n",
            "Total params: 160,305\n",
            "Trainable params: 160,305\n",
            "Non-trainable params: 0\n",
            "_________________________________________________________________\n"
          ],
          "name": "stdout"
        }
      ]
    },
    {
      "cell_type": "code",
      "metadata": {
        "id": "CaGEg_St5iQ2"
      },
      "source": [
        "# How do we measure loss, optimize it and measure performance on holdout data?\n",
        "# Adam stands for adaptive moment estimation and is almost always a good first \n",
        "# pick, along with RMSProp.\n",
        "model.compile(loss=losses.binary_crossentropy, \n",
        "              optimizer=optimizers.RMSprop(), \n",
        "              metrics=[metrics.binary_accuracy])"
      ],
      "execution_count": 85,
      "outputs": []
    },
    {
      "cell_type": "code",
      "metadata": {
        "colab": {
          "base_uri": "https://localhost:8080/"
        },
        "id": "vQh4hHKkHsn6",
        "outputId": "5a773bec-00f0-413f-c5fc-c69cf3cf7493"
      },
      "source": [
        "# Perform the actual training.\n",
        "history = model.fit(x=x_train, y=y_train, batch_size=512, epochs=10, \n",
        "                    validation_split=0.2, shuffle=True)"
      ],
      "execution_count": 86,
      "outputs": [
        {
          "output_type": "stream",
          "text": [
            "Epoch 1/10\n",
            "40/40 [==============================] - 2s 45ms/step - loss: 0.5909 - binary_accuracy: 0.7073 - val_loss: 0.3813 - val_binary_accuracy: 0.8796\n",
            "Epoch 2/10\n",
            "40/40 [==============================] - 1s 31ms/step - loss: 0.3197 - binary_accuracy: 0.9041 - val_loss: 0.2945 - val_binary_accuracy: 0.8936\n",
            "Epoch 3/10\n",
            "40/40 [==============================] - 1s 31ms/step - loss: 0.2259 - binary_accuracy: 0.9280 - val_loss: 0.2847 - val_binary_accuracy: 0.8902\n",
            "Epoch 4/10\n",
            "40/40 [==============================] - 1s 31ms/step - loss: 0.1761 - binary_accuracy: 0.9443 - val_loss: 0.2788 - val_binary_accuracy: 0.8932\n",
            "Epoch 5/10\n",
            "40/40 [==============================] - 1s 31ms/step - loss: 0.1435 - binary_accuracy: 0.9550 - val_loss: 0.2889 - val_binary_accuracy: 0.8898\n",
            "Epoch 6/10\n",
            "40/40 [==============================] - 1s 32ms/step - loss: 0.1181 - binary_accuracy: 0.9646 - val_loss: 0.3106 - val_binary_accuracy: 0.8894\n",
            "Epoch 7/10\n",
            "40/40 [==============================] - 1s 31ms/step - loss: 0.1036 - binary_accuracy: 0.9707 - val_loss: 0.3405 - val_binary_accuracy: 0.8804\n",
            "Epoch 8/10\n",
            "40/40 [==============================] - 1s 30ms/step - loss: 0.0882 - binary_accuracy: 0.9734 - val_loss: 0.3460 - val_binary_accuracy: 0.8852\n",
            "Epoch 9/10\n",
            "40/40 [==============================] - 1s 30ms/step - loss: 0.0687 - binary_accuracy: 0.9817 - val_loss: 0.3789 - val_binary_accuracy: 0.8782\n",
            "Epoch 10/10\n",
            "40/40 [==============================] - 1s 31ms/step - loss: 0.0598 - binary_accuracy: 0.9844 - val_loss: 0.4451 - val_binary_accuracy: 0.8668\n"
          ],
          "name": "stdout"
        }
      ]
    },
    {
      "cell_type": "code",
      "metadata": {
        "colab": {
          "base_uri": "https://localhost:8080/"
        },
        "id": "PPa1XF6EMESK",
        "outputId": "21b5276d-16cf-45a9-b32a-6a8098eba453"
      },
      "source": [
        "history_dict = history.history\n",
        "history_dict.keys()"
      ],
      "execution_count": 87,
      "outputs": [
        {
          "output_type": "execute_result",
          "data": {
            "text/plain": [
              "dict_keys(['loss', 'binary_accuracy', 'val_loss', 'val_binary_accuracy'])"
            ]
          },
          "metadata": {
            "tags": []
          },
          "execution_count": 87
        }
      ]
    },
    {
      "cell_type": "code",
      "metadata": {
        "id": "iGUWr-ZEN_qz",
        "outputId": "9a05a6d4-bbf3-4233-e3df-84771daaa0dc",
        "colab": {
          "base_uri": "https://localhost:8080/",
          "height": 295
        }
      },
      "source": [
        "acc = history_dict['binary_accuracy']\n",
        "val_acc = history_dict['val_binary_accuracy']\n",
        "loss = history_dict['loss']\n",
        "val_loss = history_dict['val_loss']\n",
        "\n",
        "epochs = range(1, len(acc) + 1)\n",
        "\n",
        "# \"bo\" is for \"blue dot\"\n",
        "plt.plot(epochs, loss, 'bo', label='Training loss')\n",
        "# b is for \"solid blue line\"\n",
        "plt.plot(epochs, val_loss, 'b', label='Validation loss')\n",
        "plt.title('Training and validation loss')\n",
        "plt.xlabel('Epochs')\n",
        "plt.ylabel('Loss')\n",
        "plt.legend()\n",
        "\n",
        "plt.show()"
      ],
      "execution_count": 88,
      "outputs": [
        {
          "output_type": "display_data",
          "data": {
            "image/png": "[encoded data removed]",
            "text/plain": [
              "<Figure size 432x288 with 1 Axes>"
            ]
          },
          "metadata": {
            "tags": [],
            "needs_background": "light"
          }
        }
      ]
    },
    {
      "cell_type": "code",
      "metadata": {
        "id": "kGdup8vYPuL5",
        "outputId": "b2fb804e-543a-45b1-e9d9-0ff4c0c61083",
        "colab": {
          "base_uri": "https://localhost:8080/",
          "height": 295
        }
      },
      "source": [
        "plt.plot(epochs, acc, 'bo', label='Training acc')\n",
        "plt.plot(epochs, val_acc, 'b', label='Validation acc')\n",
        "plt.title('Training and validation accuracy')\n",
        "plt.xlabel('Epochs')\n",
        "plt.ylabel('Accuracy')\n",
        "plt.legend(loc='lower right')\n",
        "\n",
        "plt.show()"
      ],
      "execution_count": 89,
      "outputs": [
        {
          "output_type": "display_data",
          "data": {
            "image/png": "[encoded data removed]",
            "text/plain": [
              "<Figure size 432x288 with 1 Axes>"
            ]
          },
          "metadata": {
            "tags": [],
            "needs_background": "light"
          }
        }
      ]
    },
    {
      "cell_type": "code",
      "metadata": {
        "id": "nPaiGxWrQSaG",
        "outputId": "ccc23971-f4bd-496c-c4a0-6829347bd28f",
        "colab": {
          "base_uri": "https://localhost:8080/"
        }
      },
      "source": [
        "model.evaluate(x=x_test, y=y_test)"
      ],
      "execution_count": 90,
      "outputs": [
        {
          "output_type": "stream",
          "text": [
            "782/782 [==============================] - 1s 2ms/step - loss: 0.4566 - binary_accuracy: 0.8560\n"
          ],
          "name": "stdout"
        },
        {
          "output_type": "execute_result",
          "data": {
            "text/plain": [
              "[0.4565936028957367, 0.8560400009155273]"
            ]
          },
          "metadata": {
            "tags": []
          },
          "execution_count": 90
        }
      ]
    }
  ]
}
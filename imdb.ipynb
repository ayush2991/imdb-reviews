{
  "nbformat": 4,
  "nbformat_minor": 0,
  "metadata": {
    "colab": {
      "name": "imdb.ipynb",
      "provenance": [],
      "collapsed_sections": [],
      "authorship_tag": "ABX9TyPzu/ksIVi4K7bM56HkpQtm",
      "include_colab_link": true
    },
    "kernelspec": {
      "name": "python3",
      "display_name": "Python 3"
    }
  },
  "cells": [
    {
      "cell_type": "markdown",
      "metadata": {
        "id": "view-in-github",
        "colab_type": "text"
      },
      "source": [
        "<a href=\"https://colab.research.google.com/github/ayush2991/imdb-reviews/blob/main/imdb.ipynb\" target=\"_parent\"><img src=\"https://colab.research.google.com/assets/colab-badge.svg\" alt=\"Open In Colab\"/></a>"
      ]
    },
    {
      "cell_type": "code",
      "metadata": {
        "id": "uP9rX1Ts7yRG"
      },
      "source": [
        "import tensorflow as tf\n",
        "from tensorflow.keras.datasets import imdb\n",
        "import numpy as np"
      ],
      "execution_count": 114,
      "outputs": []
    },
    {
      "cell_type": "code",
      "metadata": {
        "id": "bQJ3LJ289vpd"
      },
      "source": [
        "# imdb.load_data?\n",
        "# Using this help command, we learn that:\n",
        "# 1. The function call returns (x_train, y_train), (x_test, y_test)\n",
        "# 2. words are indexed by frequency, so 1 = most common token\n",
        "# 3. 0 is the placeholder for unknown tokens\n",
        "# 4. index_from=3 so indices 0, 1, 2 are reserved for special tokens."
      ],
      "execution_count": 115,
      "outputs": []
    },
    {
      "cell_type": "code",
      "metadata": {
        "id": "yA_AVEaJkOGG"
      },
      "source": [
        "VOCAB_SIZE = 10000"
      ],
      "execution_count": 116,
      "outputs": []
    },
    {
      "cell_type": "code",
      "metadata": {
        "colab": {
          "base_uri": "https://localhost:8080/"
        },
        "id": "QPo5Or3dWK1V",
        "outputId": "9f50ce76-6907-4c0d-f0cc-cd60a865a78c"
      },
      "source": [
        "word_index = imdb.get_word_index()\n",
        "print(\"# unqiue tokens = \", len(word_index.items()))"
      ],
      "execution_count": 117,
      "outputs": [
        {
          "output_type": "stream",
          "text": [
            "# unqiue tokens =  88584\n"
          ],
          "name": "stdout"
        }
      ]
    },
    {
      "cell_type": "code",
      "metadata": {
        "id": "TOb3imrj9xdu"
      },
      "source": [
        "(x_train_text, y_train), (x_test_text, y_test) = imdb.load_data(num_words=VOCAB_SIZE)\n",
        "# num_words = 10,000 is perhaps an arbitray choice but seems like \n",
        "# a good starting point because it is unlikely that people need more \n",
        "# than 10,000 real english words to express their views about a movie.\n",
        "# This choice is also informed by my prior work on large NLP systems\n",
        "# which required no more than 50,000 tokens for complete expression.\n",
        "# We can always tune this hyperparameter, if need be."
      ],
      "execution_count": null,
      "outputs": []
    },
    {
      "cell_type": "code",
      "metadata": {
        "id": "uNqe8FsO_JiE"
      },
      "source": [
        "# Let's see what the data looks like\n",
        "print(x_train_text[0])"
      ],
      "execution_count": null,
      "outputs": []
    },
    {
      "cell_type": "code",
      "metadata": {
        "colab": {
          "base_uri": "https://localhost:8080/"
        },
        "collapsed": true,
        "id": "_HsCEKsaAP4k",
        "outputId": "45afd7bc-8e98-4c89-e99d-752b0a779fec"
      },
      "source": [
        "# and, in human-readable form\n",
        "reverse_index = {v:k for (k, v) in word_index.items()}\n",
        "words = [reverse_index.get(token-3 , '?') for token in x_train_text[0]]\n",
        "review = ' '.join(words)\n",
        "print(review)"
      ],
      "execution_count": 118,
      "outputs": [
        {
          "output_type": "stream",
          "text": [
            "? this film was just brilliant casting location scenery story direction everyone's really suited the part they played and you could just imagine being there robert ? is an amazing actor and now the same being director ? father came from the same scottish island as myself so i loved the fact there was a real connection with this film the witty remarks throughout the film were great it was just brilliant so much that i bought the film as soon as it was released for ? and would recommend it to everyone to watch and the fly fishing was amazing really cried at the end it was so sad and you know what they say if you cry at a film it must have been good and this definitely was also ? to the two little boy's that played the ? of norman and paul they were just brilliant children are often left out of the ? list i think because the stars that play them all grown up are such a big profile for the whole film but these children are amazing and should be praised for what they have done don't you think the whole story was so lovely because it was true and was someone's life after all that was shared with us all\n"
          ],
          "name": "stdout"
        }
      ]
    },
    {
      "cell_type": "code",
      "metadata": {
        "id": "iIq6nEKhBWP_"
      },
      "source": [
        "# texts: A list of N reviews, where each review is a sequence of tokens of \n",
        "# variable length. For example, texts = [[3, 1, 8, ..], [9, 3, ..], ...]\n",
        "# vocab_size: The size of one-hot vector to which we'll map each review text.\n",
        "# Returns X, a matrix of shape (N, vocab_size)\n",
        "def to_one_hot(texts, vocab_size):\n",
        "  X = np.zeros((len(texts), vocab_size))\n",
        "  for i, indices in enumerate(texts):\n",
        "    X[i, indices] = 1\n",
        "  return X"
      ],
      "execution_count": null,
      "outputs": []
    },
    {
      "cell_type": "code",
      "metadata": {
        "colab": {
          "base_uri": "https://localhost:8080/"
        },
        "id": "DdbgJoWWQdA2",
        "outputId": "0e8087fa-3319-4f9d-9d03-98d9da1981a3"
      },
      "source": [
        "# Encode all reviews into one-hot vectors which we can feed into DNNs.\n",
        "x_train = to_one_hot(x_train_text, VOCAB_SIZE)\n",
        "x_test = to_one_hot(x_test_text, VOCAB_SIZE)\n",
        "\n",
        "num_train_examples = len(y_train)\n",
        "num_test_examples = len(y_test)\n",
        "\n",
        "assert x_train.shape == (num_train_examples, VOCAB_SIZE)\n",
        "assert x_test.shape == (num_test_examples, VOCAB_SIZE)\n",
        "\n",
        "print(x_train.shape)\n",
        "print(x_test.shape)"
      ],
      "execution_count": 120,
      "outputs": [
        {
          "output_type": "stream",
          "text": [
            "(25000, 10000)\n",
            "(25000, 10000)\n"
          ],
          "name": "stdout"
        }
      ]
    }
  ]
}